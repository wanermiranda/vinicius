{
 "cells": [
  {
   "cell_type": "code",
   "execution_count": 21,
   "metadata": {
    "collapsed": false
   },
   "outputs": [],
   "source": [
    "import zeep\n",
    "import sys\n",
    "reload(sys)\n",
    "sys.setdefaultencoding(\"utf-8\")\n",
    "\n",
    "wsdl = 'http://sistemas.cvm.gov.br/webservices/Sistemas/SCW/CDocs/WsDownloadInfs.asmx?WSDL'\n",
    "client = zeep.Client(wsdl=wsdl)\n",
    "soap_header = client.service.Login('2293', '8700')\n",
    "soap_header['header']"
   ]
  },
  {
   "cell_type": "code",
   "execution_count": 23,
   "metadata": {
    "collapsed": false
   },
   "outputs": [],
   "source": [
    "header = {\n",
    "    'sessaoIdHeader': {\n",
    "        'Guid': '2d572807-3eba-4fde-8a9c-8b1bfd503a43',\n",
    "        'IdSessao': 822240093L,\n",
    "        '_attr_1': None\n",
    "    }\n",
    "}\n",
    "\n",
    "\n",
    "result_docs = client.service.solicAutorizDownloadArqComptc(_soapheaders=header, iCdTpDoc='209', strDtComptcDoc='2016-12-01', strMotivoAutorizDownload='Download documentos, mes 12')"
   ]
  },
  {
   "cell_type": "code",
   "execution_count": 3,
   "metadata": {
    "collapsed": false
   },
   "outputs": [],
   "source": [
    "url_docs = result_docs['body']['solicAutorizDownloadArqComptcResult']"
   ]
  },
  {
   "cell_type": "code",
   "execution_count": 4,
   "metadata": {
    "collapsed": false
   },
   "outputs": [],
   "source": [
    "from StringIO import StringIO\n",
    "from zipfile import ZipFile\n",
    "from urllib import urlopen\n",
    "\n",
    "url = urlopen(url_docs)\n",
    "zipfile = ZipFile(StringIO(url.read()))\n",
    "lines = None\n",
    "for name in zipfile.namelist():\n",
    "    lines = zipfile.open(name).readlines()"
   ]
  },
  {
   "cell_type": "code",
   "execution_count": 5,
   "metadata": {
    "collapsed": false
   },
   "outputs": [],
   "source": [
    "import xmltodict\n",
    "data = xmltodict.parse(''.join(lines))"
   ]
  },
  {
   "cell_type": "code",
   "execution_count": 6,
   "metadata": {
    "collapsed": false
   },
   "outputs": [
    {
     "name": "stdout",
     "output_type": "stream",
     "text": [
      "{\"CNPJ_FDO\": \"18600016000109\", \"DT_COMPTC\": \"2016-12-01\", \"VL_TOTAL\": \"82651948,66\", \"VL_QUOTA\": \"14,144225300000\", \"PATRIM_LIQ\": \"82618159,38\", \"CAPTC_DIA\": \"0,00\", \"RESG_DIA\": \"0,00\", \"NR_COTST\": \"1\"}\n"
     ]
    }
   ],
   "source": [
    "import json\n",
    "for informe in data['ROOT']['INFORMES']['INFORME_DIARIO']:\n",
    "    print json.dumps(informe, ensure_ascii=False)\n",
    "    break"
   ]
  },
  {
   "cell_type": "code",
   "execution_count": 13,
   "metadata": {
    "collapsed": false
   },
   "outputs": [],
   "source": [
    "from pymongo import MongoClient\n",
    "client = MongoClient('localhost', 27017)\n",
    "db = client.CVM\n",
    "informes_collection = db.informes\n",
    "for informe in data['ROOT']['INFORMES']['INFORME_DIARIO']:\n",
    "    informes_collection.insert_one(informe)\n",
    "    "
   ]
  }
 ],
 "metadata": {
  "kernelspec": {
   "display_name": "Python 2",
   "language": "python",
   "name": "python2"
  },
  "language_info": {
   "codemirror_mode": {
    "name": "ipython",
    "version": 2
   },
   "file_extension": ".py",
   "mimetype": "text/x-python",
   "name": "python",
   "nbconvert_exporter": "python",
   "pygments_lexer": "ipython2",
   "version": "2.7.12"
  }
 },
 "nbformat": 4,
 "nbformat_minor": 1
}
